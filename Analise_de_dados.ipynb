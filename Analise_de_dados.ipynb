{
 "cells": [
  {
   "cell_type": "markdown",
   "metadata": {
    "id": "_2PqdbH9rEJT"
   },
   "source": [
    "# Análise de dados"
   ]
  },
  {
   "cell_type": "code",
   "execution_count": 13,
   "metadata": {
    "id": "ZwA8MSHGhbYi"
   },
   "outputs": [],
   "source": [
    "import pandas as pd\n",
    "import xml.etree.ElementTree as ET"
   ]
  },
  {
   "cell_type": "code",
   "execution_count": 14,
   "metadata": {
    "id": "u8UI_3in3AJJ"
   },
   "outputs": [],
   "source": [
    "def xmlToDataframe(path):\n",
    "  prstree = ET.parse(path)\n",
    "  root = prstree.getroot()\n",
    "\n",
    "  rows = []\n",
    "    \n",
    "  for tripinfo in root.iter('tripinfo'):\n",
    "      id = tripinfo.attrib.get('id')\n",
    "      duration = float(tripinfo.attrib.get('duration'))\n",
    "      routeLength = float(tripinfo.attrib.get('routeLength'))\n",
    "      rerouteNo = int(tripinfo.attrib.get('rerouteNo'))\n",
    "      CO_abs = float(tripinfo.find('emissions').attrib.get('CO_abs'))\n",
    "      CO2_abs = float(tripinfo.find('emissions').attrib.get('CO2_abs'))\n",
    "      HC_abs = float(tripinfo.find('emissions').attrib.get('HC_abs'))\n",
    "      PMx_abs = float(tripinfo.find('emissions').attrib.get('PMx_abs'))\n",
    "      NOx_abs = float(tripinfo.find('emissions').attrib.get('NOx_abs'))\n",
    "      fuel_abs = float(tripinfo.find('emissions').attrib.get('fuel_abs'))\n",
    "\n",
    "      rows.append([id, duration, routeLength, rerouteNo, CO_abs, CO2_abs, HC_abs, PMx_abs, NOx_abs, fuel_abs])\n",
    "    \n",
    "  return pd.DataFrame(rows, columns=['id', 'duration', 'routeLength' , 'rerouteNo', 'CO_abs', 'CO2_abs', 'HC_abs', 'PMx_abs', 'NOx_abs', 'fuel_abs'])"
   ]
  },
  {
   "cell_type": "markdown",
   "metadata": {
    "id": "ztFw1oOAlFOd"
   },
   "source": [
    "## No reroute"
   ]
  },
  {
   "cell_type": "code",
   "execution_count": 15,
   "metadata": {
    "id": "ykZUzwHKxDpu"
   },
   "outputs": [],
   "source": [
    "no_reroute = xmlToDataframe('no_reroute.xml')"
   ]
  },
  {
   "cell_type": "code",
   "execution_count": 16,
   "metadata": {
    "colab": {
     "base_uri": "https://localhost:8080/",
     "height": 423
    },
    "id": "Rnze4OMykvwS",
    "outputId": "5f8e422c-87f8-472f-a31d-7efb622d23c0"
   },
   "outputs": [
    {
     "data": {
      "text/html": [
       "<div>\n",
       "<style scoped>\n",
       "    .dataframe tbody tr th:only-of-type {\n",
       "        vertical-align: middle;\n",
       "    }\n",
       "\n",
       "    .dataframe tbody tr th {\n",
       "        vertical-align: top;\n",
       "    }\n",
       "\n",
       "    .dataframe thead th {\n",
       "        text-align: right;\n",
       "    }\n",
       "</style>\n",
       "<table border=\"1\" class=\"dataframe\">\n",
       "  <thead>\n",
       "    <tr style=\"text-align: right;\">\n",
       "      <th></th>\n",
       "      <th>id</th>\n",
       "      <th>duration</th>\n",
       "      <th>routeLength</th>\n",
       "      <th>rerouteNo</th>\n",
       "      <th>CO_abs</th>\n",
       "      <th>CO2_abs</th>\n",
       "      <th>HC_abs</th>\n",
       "      <th>PMx_abs</th>\n",
       "      <th>NOx_abs</th>\n",
       "      <th>fuel_abs</th>\n",
       "    </tr>\n",
       "  </thead>\n",
       "  <tbody>\n",
       "    <tr>\n",
       "      <th>0</th>\n",
       "      <td>Area Flow 1-813</td>\n",
       "      <td>728.0</td>\n",
       "      <td>11260.47</td>\n",
       "      <td>0</td>\n",
       "      <td>5.467563e+04</td>\n",
       "      <td>3.098523e+06</td>\n",
       "      <td>325.384452</td>\n",
       "      <td>68.325290</td>\n",
       "      <td>1278.676659</td>\n",
       "      <td>1331.915693</td>\n",
       "    </tr>\n",
       "    <tr>\n",
       "      <th>1</th>\n",
       "      <td>Area Flow 1-754</td>\n",
       "      <td>784.0</td>\n",
       "      <td>12547.56</td>\n",
       "      <td>0</td>\n",
       "      <td>5.801499e+04</td>\n",
       "      <td>3.417493e+06</td>\n",
       "      <td>348.489805</td>\n",
       "      <td>75.402310</td>\n",
       "      <td>1413.607451</td>\n",
       "      <td>1469.024328</td>\n",
       "    </tr>\n",
       "    <tr>\n",
       "      <th>2</th>\n",
       "      <td>Area Flow 1-991</td>\n",
       "      <td>853.0</td>\n",
       "      <td>10712.93</td>\n",
       "      <td>0</td>\n",
       "      <td>6.302758e+04</td>\n",
       "      <td>3.144938e+06</td>\n",
       "      <td>364.157770</td>\n",
       "      <td>69.685406</td>\n",
       "      <td>1312.175905</td>\n",
       "      <td>1351.871901</td>\n",
       "    </tr>\n",
       "    <tr>\n",
       "      <th>3</th>\n",
       "      <td>Area Flow 1-838</td>\n",
       "      <td>851.0</td>\n",
       "      <td>12860.49</td>\n",
       "      <td>0</td>\n",
       "      <td>6.981684e+04</td>\n",
       "      <td>3.763840e+06</td>\n",
       "      <td>410.662428</td>\n",
       "      <td>83.623859</td>\n",
       "      <td>1563.465556</td>\n",
       "      <td>1617.906711</td>\n",
       "    </tr>\n",
       "    <tr>\n",
       "      <th>4</th>\n",
       "      <td>Area Flow 1-901</td>\n",
       "      <td>904.0</td>\n",
       "      <td>11990.19</td>\n",
       "      <td>0</td>\n",
       "      <td>6.804639e+04</td>\n",
       "      <td>3.480168e+06</td>\n",
       "      <td>395.437883</td>\n",
       "      <td>77.337899</td>\n",
       "      <td>1450.287810</td>\n",
       "      <td>1495.971483</td>\n",
       "    </tr>\n",
       "    <tr>\n",
       "      <th>...</th>\n",
       "      <td>...</td>\n",
       "      <td>...</td>\n",
       "      <td>...</td>\n",
       "      <td>...</td>\n",
       "      <td>...</td>\n",
       "      <td>...</td>\n",
       "      <td>...</td>\n",
       "      <td>...</td>\n",
       "      <td>...</td>\n",
       "      <td>...</td>\n",
       "    </tr>\n",
       "    <tr>\n",
       "      <th>701</th>\n",
       "      <td>Area Flow 1-513</td>\n",
       "      <td>25291.0</td>\n",
       "      <td>12492.20</td>\n",
       "      <td>0</td>\n",
       "      <td>2.286234e+06</td>\n",
       "      <td>3.927689e+07</td>\n",
       "      <td>11335.389524</td>\n",
       "      <td>969.808409</td>\n",
       "      <td>17864.190015</td>\n",
       "      <td>16884.468840</td>\n",
       "    </tr>\n",
       "    <tr>\n",
       "      <th>702</th>\n",
       "      <td>Area Flow 1-413</td>\n",
       "      <td>24791.0</td>\n",
       "      <td>13712.88</td>\n",
       "      <td>0</td>\n",
       "      <td>2.318133e+06</td>\n",
       "      <td>3.982821e+07</td>\n",
       "      <td>11493.446503</td>\n",
       "      <td>982.175976</td>\n",
       "      <td>18106.390768</td>\n",
       "      <td>17121.477287</td>\n",
       "    </tr>\n",
       "    <tr>\n",
       "      <th>703</th>\n",
       "      <td>Area Flow 1-687</td>\n",
       "      <td>25456.0</td>\n",
       "      <td>12405.19</td>\n",
       "      <td>0</td>\n",
       "      <td>2.482270e+06</td>\n",
       "      <td>4.231832e+07</td>\n",
       "      <td>12299.345685</td>\n",
       "      <td>1045.894536</td>\n",
       "      <td>19252.639720</td>\n",
       "      <td>18191.942880</td>\n",
       "    </tr>\n",
       "    <tr>\n",
       "      <th>704</th>\n",
       "      <td>Area Flow 1-273</td>\n",
       "      <td>25208.0</td>\n",
       "      <td>13200.10</td>\n",
       "      <td>0</td>\n",
       "      <td>2.309071e+06</td>\n",
       "      <td>3.965764e+07</td>\n",
       "      <td>11447.850744</td>\n",
       "      <td>976.786130</td>\n",
       "      <td>18024.447022</td>\n",
       "      <td>17048.150301</td>\n",
       "    </tr>\n",
       "    <tr>\n",
       "      <th>705</th>\n",
       "      <td>Area Flow 1-92</td>\n",
       "      <td>25625.0</td>\n",
       "      <td>13756.15</td>\n",
       "      <td>0</td>\n",
       "      <td>2.328594e+06</td>\n",
       "      <td>4.023172e+07</td>\n",
       "      <td>11550.495494</td>\n",
       "      <td>989.980692</td>\n",
       "      <td>18280.641443</td>\n",
       "      <td>17294.927534</td>\n",
       "    </tr>\n",
       "  </tbody>\n",
       "</table>\n",
       "<p>706 rows × 10 columns</p>\n",
       "</div>"
      ],
      "text/plain": [
       "                  id  duration  routeLength  rerouteNo        CO_abs  \\\n",
       "0    Area Flow 1-813     728.0     11260.47          0  5.467563e+04   \n",
       "1    Area Flow 1-754     784.0     12547.56          0  5.801499e+04   \n",
       "2    Area Flow 1-991     853.0     10712.93          0  6.302758e+04   \n",
       "3    Area Flow 1-838     851.0     12860.49          0  6.981684e+04   \n",
       "4    Area Flow 1-901     904.0     11990.19          0  6.804639e+04   \n",
       "..               ...       ...          ...        ...           ...   \n",
       "701  Area Flow 1-513   25291.0     12492.20          0  2.286234e+06   \n",
       "702  Area Flow 1-413   24791.0     13712.88          0  2.318133e+06   \n",
       "703  Area Flow 1-687   25456.0     12405.19          0  2.482270e+06   \n",
       "704  Area Flow 1-273   25208.0     13200.10          0  2.309071e+06   \n",
       "705   Area Flow 1-92   25625.0     13756.15          0  2.328594e+06   \n",
       "\n",
       "          CO2_abs        HC_abs      PMx_abs       NOx_abs      fuel_abs  \n",
       "0    3.098523e+06    325.384452    68.325290   1278.676659   1331.915693  \n",
       "1    3.417493e+06    348.489805    75.402310   1413.607451   1469.024328  \n",
       "2    3.144938e+06    364.157770    69.685406   1312.175905   1351.871901  \n",
       "3    3.763840e+06    410.662428    83.623859   1563.465556   1617.906711  \n",
       "4    3.480168e+06    395.437883    77.337899   1450.287810   1495.971483  \n",
       "..            ...           ...          ...           ...           ...  \n",
       "701  3.927689e+07  11335.389524   969.808409  17864.190015  16884.468840  \n",
       "702  3.982821e+07  11493.446503   982.175976  18106.390768  17121.477287  \n",
       "703  4.231832e+07  12299.345685  1045.894536  19252.639720  18191.942880  \n",
       "704  3.965764e+07  11447.850744   976.786130  18024.447022  17048.150301  \n",
       "705  4.023172e+07  11550.495494   989.980692  18280.641443  17294.927534  \n",
       "\n",
       "[706 rows x 10 columns]"
      ]
     },
     "execution_count": 16,
     "metadata": {},
     "output_type": "execute_result"
    }
   ],
   "source": [
    "no_reroute"
   ]
  },
  {
   "cell_type": "code",
   "execution_count": 17,
   "metadata": {
    "colab": {
     "base_uri": "https://localhost:8080/",
     "height": 300
    },
    "id": "GQASpcCPkyO1",
    "outputId": "c08e0429-2dc0-40ec-c68c-38df16c9b681"
   },
   "outputs": [
    {
     "data": {
      "text/html": [
       "<div>\n",
       "<style scoped>\n",
       "    .dataframe tbody tr th:only-of-type {\n",
       "        vertical-align: middle;\n",
       "    }\n",
       "\n",
       "    .dataframe tbody tr th {\n",
       "        vertical-align: top;\n",
       "    }\n",
       "\n",
       "    .dataframe thead th {\n",
       "        text-align: right;\n",
       "    }\n",
       "</style>\n",
       "<table border=\"1\" class=\"dataframe\">\n",
       "  <thead>\n",
       "    <tr style=\"text-align: right;\">\n",
       "      <th></th>\n",
       "      <th>duration</th>\n",
       "      <th>routeLength</th>\n",
       "      <th>rerouteNo</th>\n",
       "      <th>CO_abs</th>\n",
       "      <th>CO2_abs</th>\n",
       "      <th>HC_abs</th>\n",
       "      <th>PMx_abs</th>\n",
       "      <th>NOx_abs</th>\n",
       "      <th>fuel_abs</th>\n",
       "    </tr>\n",
       "  </thead>\n",
       "  <tbody>\n",
       "    <tr>\n",
       "      <th>count</th>\n",
       "      <td>706.000000</td>\n",
       "      <td>706.000000</td>\n",
       "      <td>706.0</td>\n",
       "      <td>7.060000e+02</td>\n",
       "      <td>7.060000e+02</td>\n",
       "      <td>706.000000</td>\n",
       "      <td>706.000000</td>\n",
       "      <td>706.000000</td>\n",
       "      <td>706.000000</td>\n",
       "    </tr>\n",
       "    <tr>\n",
       "      <th>mean</th>\n",
       "      <td>9258.087819</td>\n",
       "      <td>12580.026402</td>\n",
       "      <td>0.0</td>\n",
       "      <td>8.489567e+05</td>\n",
       "      <td>1.620212e+07</td>\n",
       "      <td>4249.480876</td>\n",
       "      <td>392.940605</td>\n",
       "      <td>7279.670896</td>\n",
       "      <td>6964.953795</td>\n",
       "    </tr>\n",
       "    <tr>\n",
       "      <th>std</th>\n",
       "      <td>7105.793642</td>\n",
       "      <td>808.339022</td>\n",
       "      <td>0.0</td>\n",
       "      <td>6.853179e+05</td>\n",
       "      <td>1.099042e+07</td>\n",
       "      <td>3378.253116</td>\n",
       "      <td>274.385477</td>\n",
       "      <td>5041.014125</td>\n",
       "      <td>4724.629090</td>\n",
       "    </tr>\n",
       "    <tr>\n",
       "      <th>min</th>\n",
       "      <td>728.000000</td>\n",
       "      <td>10633.680000</td>\n",
       "      <td>0.0</td>\n",
       "      <td>5.467563e+04</td>\n",
       "      <td>3.098523e+06</td>\n",
       "      <td>325.384452</td>\n",
       "      <td>68.325290</td>\n",
       "      <td>1278.676659</td>\n",
       "      <td>1331.915693</td>\n",
       "    </tr>\n",
       "    <tr>\n",
       "      <th>25%</th>\n",
       "      <td>2459.000000</td>\n",
       "      <td>11990.527500</td>\n",
       "      <td>0.0</td>\n",
       "      <td>1.908326e+05</td>\n",
       "      <td>5.707500e+06</td>\n",
       "      <td>1006.524782</td>\n",
       "      <td>131.351696</td>\n",
       "      <td>2471.946894</td>\n",
       "      <td>2453.465588</td>\n",
       "    </tr>\n",
       "    <tr>\n",
       "      <th>50%</th>\n",
       "      <td>8230.000000</td>\n",
       "      <td>12547.560000</td>\n",
       "      <td>0.0</td>\n",
       "      <td>7.153990e+05</td>\n",
       "      <td>1.397074e+07</td>\n",
       "      <td>3589.788623</td>\n",
       "      <td>337.644709</td>\n",
       "      <td>6261.165634</td>\n",
       "      <td>6005.713502</td>\n",
       "    </tr>\n",
       "    <tr>\n",
       "      <th>75%</th>\n",
       "      <td>14958.750000</td>\n",
       "      <td>13154.780000</td>\n",
       "      <td>0.0</td>\n",
       "      <td>1.408834e+06</td>\n",
       "      <td>2.519075e+07</td>\n",
       "      <td>7016.456214</td>\n",
       "      <td>618.291352</td>\n",
       "      <td>11405.180614</td>\n",
       "      <td>10829.043362</td>\n",
       "    </tr>\n",
       "    <tr>\n",
       "      <th>max</th>\n",
       "      <td>25625.000000</td>\n",
       "      <td>15292.570000</td>\n",
       "      <td>0.0</td>\n",
       "      <td>2.482270e+06</td>\n",
       "      <td>4.231832e+07</td>\n",
       "      <td>12299.345685</td>\n",
       "      <td>1045.894536</td>\n",
       "      <td>19252.639720</td>\n",
       "      <td>18191.942880</td>\n",
       "    </tr>\n",
       "  </tbody>\n",
       "</table>\n",
       "</div>"
      ],
      "text/plain": [
       "           duration   routeLength  rerouteNo        CO_abs       CO2_abs  \\\n",
       "count    706.000000    706.000000      706.0  7.060000e+02  7.060000e+02   \n",
       "mean    9258.087819  12580.026402        0.0  8.489567e+05  1.620212e+07   \n",
       "std     7105.793642    808.339022        0.0  6.853179e+05  1.099042e+07   \n",
       "min      728.000000  10633.680000        0.0  5.467563e+04  3.098523e+06   \n",
       "25%     2459.000000  11990.527500        0.0  1.908326e+05  5.707500e+06   \n",
       "50%     8230.000000  12547.560000        0.0  7.153990e+05  1.397074e+07   \n",
       "75%    14958.750000  13154.780000        0.0  1.408834e+06  2.519075e+07   \n",
       "max    25625.000000  15292.570000        0.0  2.482270e+06  4.231832e+07   \n",
       "\n",
       "             HC_abs      PMx_abs       NOx_abs      fuel_abs  \n",
       "count    706.000000   706.000000    706.000000    706.000000  \n",
       "mean    4249.480876   392.940605   7279.670896   6964.953795  \n",
       "std     3378.253116   274.385477   5041.014125   4724.629090  \n",
       "min      325.384452    68.325290   1278.676659   1331.915693  \n",
       "25%     1006.524782   131.351696   2471.946894   2453.465588  \n",
       "50%     3589.788623   337.644709   6261.165634   6005.713502  \n",
       "75%     7016.456214   618.291352  11405.180614  10829.043362  \n",
       "max    12299.345685  1045.894536  19252.639720  18191.942880  "
      ]
     },
     "execution_count": 17,
     "metadata": {},
     "output_type": "execute_result"
    }
   ],
   "source": [
    "no_reroute.describe()"
   ]
  },
  {
   "cell_type": "markdown",
   "metadata": {
    "id": "p_lc6wl2lJYt"
   },
   "source": [
    "## DSP"
   ]
  },
  {
   "cell_type": "code",
   "execution_count": 18,
   "metadata": {
    "id": "cobPHpwViTiA"
   },
   "outputs": [],
   "source": [
    "dsp = xmlToDataframe(Outputs_DSP/reroute_DSP_.xml')"
   ]
  },
  {
   "cell_type": "code",
   "execution_count": 19,
   "metadata": {
    "colab": {
     "base_uri": "https://localhost:8080/",
     "height": 206
    },
    "id": "VCpQI6Etkd6R",
    "outputId": "1e667f7a-2af5-4ea3-fdb5-02bf87d73884"
   },
   "outputs": [
    {
     "data": {
      "text/html": [
       "<div>\n",
       "<style scoped>\n",
       "    .dataframe tbody tr th:only-of-type {\n",
       "        vertical-align: middle;\n",
       "    }\n",
       "\n",
       "    .dataframe tbody tr th {\n",
       "        vertical-align: top;\n",
       "    }\n",
       "\n",
       "    .dataframe thead th {\n",
       "        text-align: right;\n",
       "    }\n",
       "</style>\n",
       "<table border=\"1\" class=\"dataframe\">\n",
       "  <thead>\n",
       "    <tr style=\"text-align: right;\">\n",
       "      <th></th>\n",
       "      <th>id</th>\n",
       "      <th>duration</th>\n",
       "      <th>routeLength</th>\n",
       "      <th>rerouteNo</th>\n",
       "      <th>CO_abs</th>\n",
       "      <th>CO2_abs</th>\n",
       "      <th>HC_abs</th>\n",
       "      <th>PMx_abs</th>\n",
       "      <th>NOx_abs</th>\n",
       "      <th>fuel_abs</th>\n",
       "    </tr>\n",
       "  </thead>\n",
       "  <tbody>\n",
       "    <tr>\n",
       "      <th>0</th>\n",
       "      <td>Area Flow 1-813</td>\n",
       "      <td>728.0</td>\n",
       "      <td>11260.47</td>\n",
       "      <td>0</td>\n",
       "      <td>54675.629828</td>\n",
       "      <td>3.098523e+06</td>\n",
       "      <td>325.384452</td>\n",
       "      <td>68.325290</td>\n",
       "      <td>1278.676659</td>\n",
       "      <td>1331.915693</td>\n",
       "    </tr>\n",
       "    <tr>\n",
       "      <th>1</th>\n",
       "      <td>Area Flow 1-754</td>\n",
       "      <td>784.0</td>\n",
       "      <td>12547.56</td>\n",
       "      <td>0</td>\n",
       "      <td>58014.992337</td>\n",
       "      <td>3.417493e+06</td>\n",
       "      <td>348.489805</td>\n",
       "      <td>75.402310</td>\n",
       "      <td>1413.607451</td>\n",
       "      <td>1469.024328</td>\n",
       "    </tr>\n",
       "    <tr>\n",
       "      <th>2</th>\n",
       "      <td>Area Flow 1-991</td>\n",
       "      <td>853.0</td>\n",
       "      <td>10712.93</td>\n",
       "      <td>0</td>\n",
       "      <td>63027.576341</td>\n",
       "      <td>3.144938e+06</td>\n",
       "      <td>364.157770</td>\n",
       "      <td>69.685406</td>\n",
       "      <td>1312.175905</td>\n",
       "      <td>1351.871901</td>\n",
       "    </tr>\n",
       "    <tr>\n",
       "      <th>3</th>\n",
       "      <td>Area Flow 1-838</td>\n",
       "      <td>851.0</td>\n",
       "      <td>12860.49</td>\n",
       "      <td>0</td>\n",
       "      <td>69816.835792</td>\n",
       "      <td>3.763840e+06</td>\n",
       "      <td>410.662428</td>\n",
       "      <td>83.623859</td>\n",
       "      <td>1563.465556</td>\n",
       "      <td>1617.906711</td>\n",
       "    </tr>\n",
       "    <tr>\n",
       "      <th>4</th>\n",
       "      <td>Area Flow 1-901</td>\n",
       "      <td>904.0</td>\n",
       "      <td>11990.19</td>\n",
       "      <td>0</td>\n",
       "      <td>68053.427170</td>\n",
       "      <td>3.483995e+06</td>\n",
       "      <td>395.565079</td>\n",
       "      <td>77.395622</td>\n",
       "      <td>1451.426821</td>\n",
       "      <td>1497.616648</td>\n",
       "    </tr>\n",
       "  </tbody>\n",
       "</table>\n",
       "</div>"
      ],
      "text/plain": [
       "                id  duration  routeLength  rerouteNo        CO_abs  \\\n",
       "0  Area Flow 1-813     728.0     11260.47          0  54675.629828   \n",
       "1  Area Flow 1-754     784.0     12547.56          0  58014.992337   \n",
       "2  Area Flow 1-991     853.0     10712.93          0  63027.576341   \n",
       "3  Area Flow 1-838     851.0     12860.49          0  69816.835792   \n",
       "4  Area Flow 1-901     904.0     11990.19          0  68053.427170   \n",
       "\n",
       "        CO2_abs      HC_abs    PMx_abs      NOx_abs     fuel_abs  \n",
       "0  3.098523e+06  325.384452  68.325290  1278.676659  1331.915693  \n",
       "1  3.417493e+06  348.489805  75.402310  1413.607451  1469.024328  \n",
       "2  3.144938e+06  364.157770  69.685406  1312.175905  1351.871901  \n",
       "3  3.763840e+06  410.662428  83.623859  1563.465556  1617.906711  \n",
       "4  3.483995e+06  395.565079  77.395622  1451.426821  1497.616648  "
      ]
     },
     "execution_count": 19,
     "metadata": {},
     "output_type": "execute_result"
    }
   ],
   "source": [
    "dsp.head()"
   ]
  },
  {
   "cell_type": "code",
   "execution_count": 20,
   "metadata": {
    "colab": {
     "base_uri": "https://localhost:8080/",
     "height": 300
    },
    "id": "uCWgtf9fkf5Z",
    "outputId": "02ef69d3-1bf1-413a-c649-003dc686fee1",
    "scrolled": true
   },
   "outputs": [
    {
     "data": {
      "text/html": [
       "<div>\n",
       "<style scoped>\n",
       "    .dataframe tbody tr th:only-of-type {\n",
       "        vertical-align: middle;\n",
       "    }\n",
       "\n",
       "    .dataframe tbody tr th {\n",
       "        vertical-align: top;\n",
       "    }\n",
       "\n",
       "    .dataframe thead th {\n",
       "        text-align: right;\n",
       "    }\n",
       "</style>\n",
       "<table border=\"1\" class=\"dataframe\">\n",
       "  <thead>\n",
       "    <tr style=\"text-align: right;\">\n",
       "      <th></th>\n",
       "      <th>duration</th>\n",
       "      <th>routeLength</th>\n",
       "      <th>rerouteNo</th>\n",
       "      <th>CO_abs</th>\n",
       "      <th>CO2_abs</th>\n",
       "      <th>HC_abs</th>\n",
       "      <th>PMx_abs</th>\n",
       "      <th>NOx_abs</th>\n",
       "      <th>fuel_abs</th>\n",
       "    </tr>\n",
       "  </thead>\n",
       "  <tbody>\n",
       "    <tr>\n",
       "      <th>count</th>\n",
       "      <td>706.000000</td>\n",
       "      <td>706.000000</td>\n",
       "      <td>706.000000</td>\n",
       "      <td>706.000000</td>\n",
       "      <td>7.060000e+02</td>\n",
       "      <td>706.000000</td>\n",
       "      <td>706.000000</td>\n",
       "      <td>706.000000</td>\n",
       "      <td>706.000000</td>\n",
       "    </tr>\n",
       "    <tr>\n",
       "      <th>mean</th>\n",
       "      <td>3384.842776</td>\n",
       "      <td>17097.274618</td>\n",
       "      <td>2.620397</td>\n",
       "      <td>287483.555337</td>\n",
       "      <td>8.230183e+06</td>\n",
       "      <td>1507.283319</td>\n",
       "      <td>188.847630</td>\n",
       "      <td>3563.489226</td>\n",
       "      <td>3537.883460</td>\n",
       "    </tr>\n",
       "    <tr>\n",
       "      <th>std</th>\n",
       "      <td>1517.813885</td>\n",
       "      <td>4087.874367</td>\n",
       "      <td>1.716117</td>\n",
       "      <td>146443.484505</td>\n",
       "      <td>3.057309e+06</td>\n",
       "      <td>738.531736</td>\n",
       "      <td>72.522103</td>\n",
       "      <td>1356.923277</td>\n",
       "      <td>1314.262895</td>\n",
       "    </tr>\n",
       "    <tr>\n",
       "      <th>min</th>\n",
       "      <td>728.000000</td>\n",
       "      <td>10633.680000</td>\n",
       "      <td>0.000000</td>\n",
       "      <td>54675.629828</td>\n",
       "      <td>3.098523e+06</td>\n",
       "      <td>325.384452</td>\n",
       "      <td>68.325290</td>\n",
       "      <td>1278.676659</td>\n",
       "      <td>1331.915693</td>\n",
       "    </tr>\n",
       "    <tr>\n",
       "      <th>25%</th>\n",
       "      <td>2037.750000</td>\n",
       "      <td>13452.090000</td>\n",
       "      <td>1.000000</td>\n",
       "      <td>157261.852589</td>\n",
       "      <td>5.342577e+06</td>\n",
       "      <td>852.330549</td>\n",
       "      <td>120.210370</td>\n",
       "      <td>2277.806462</td>\n",
       "      <td>2296.569809</td>\n",
       "    </tr>\n",
       "    <tr>\n",
       "      <th>50%</th>\n",
       "      <td>3319.500000</td>\n",
       "      <td>17010.345000</td>\n",
       "      <td>3.000000</td>\n",
       "      <td>271056.136240</td>\n",
       "      <td>8.063798e+06</td>\n",
       "      <td>1432.969375</td>\n",
       "      <td>183.617235</td>\n",
       "      <td>3486.491977</td>\n",
       "      <td>3466.361005</td>\n",
       "    </tr>\n",
       "    <tr>\n",
       "      <th>75%</th>\n",
       "      <td>4492.500000</td>\n",
       "      <td>19790.022500</td>\n",
       "      <td>4.000000</td>\n",
       "      <td>398737.423436</td>\n",
       "      <td>1.052899e+07</td>\n",
       "      <td>2068.564059</td>\n",
       "      <td>242.819106</td>\n",
       "      <td>4592.203889</td>\n",
       "      <td>4526.102086</td>\n",
       "    </tr>\n",
       "    <tr>\n",
       "      <th>max</th>\n",
       "      <td>7838.000000</td>\n",
       "      <td>38486.120000</td>\n",
       "      <td>8.000000</td>\n",
       "      <td>714009.125782</td>\n",
       "      <td>1.904288e+07</td>\n",
       "      <td>3629.774066</td>\n",
       "      <td>439.792592</td>\n",
       "      <td>8260.830278</td>\n",
       "      <td>8185.926315</td>\n",
       "    </tr>\n",
       "  </tbody>\n",
       "</table>\n",
       "</div>"
      ],
      "text/plain": [
       "          duration   routeLength   rerouteNo         CO_abs       CO2_abs  \\\n",
       "count   706.000000    706.000000  706.000000     706.000000  7.060000e+02   \n",
       "mean   3384.842776  17097.274618    2.620397  287483.555337  8.230183e+06   \n",
       "std    1517.813885   4087.874367    1.716117  146443.484505  3.057309e+06   \n",
       "min     728.000000  10633.680000    0.000000   54675.629828  3.098523e+06   \n",
       "25%    2037.750000  13452.090000    1.000000  157261.852589  5.342577e+06   \n",
       "50%    3319.500000  17010.345000    3.000000  271056.136240  8.063798e+06   \n",
       "75%    4492.500000  19790.022500    4.000000  398737.423436  1.052899e+07   \n",
       "max    7838.000000  38486.120000    8.000000  714009.125782  1.904288e+07   \n",
       "\n",
       "            HC_abs     PMx_abs      NOx_abs     fuel_abs  \n",
       "count   706.000000  706.000000   706.000000   706.000000  \n",
       "mean   1507.283319  188.847630  3563.489226  3537.883460  \n",
       "std     738.531736   72.522103  1356.923277  1314.262895  \n",
       "min     325.384452   68.325290  1278.676659  1331.915693  \n",
       "25%     852.330549  120.210370  2277.806462  2296.569809  \n",
       "50%    1432.969375  183.617235  3486.491977  3466.361005  \n",
       "75%    2068.564059  242.819106  4592.203889  4526.102086  \n",
       "max    3629.774066  439.792592  8260.830278  8185.926315  "
      ]
     },
     "execution_count": 20,
     "metadata": {},
     "output_type": "execute_result"
    }
   ],
   "source": [
    "dsp.describe()"
   ]
  },
  {
   "cell_type": "markdown",
   "metadata": {
    "id": "shNEiOhjlLQf"
   },
   "source": [
    "## RkSP"
   ]
  },
  {
   "cell_type": "code",
   "execution_count": 21,
   "metadata": {
    "id": "SgTfYUb0lERl"
   },
   "outputs": [],
   "source": [
    "rksp = xmlToDataframe('Outputs_RkSP/reroute_rksp_0.xml')"
   ]
  },
  {
   "cell_type": "code",
   "execution_count": 22,
   "metadata": {
    "colab": {
     "base_uri": "https://localhost:8080/",
     "height": 206
    },
    "id": "UTGZtm84lfwJ",
    "outputId": "098eafe2-dc4c-483e-f546-2952c0a8595b"
   },
   "outputs": [
    {
     "data": {
      "text/html": [
       "<div>\n",
       "<style scoped>\n",
       "    .dataframe tbody tr th:only-of-type {\n",
       "        vertical-align: middle;\n",
       "    }\n",
       "\n",
       "    .dataframe tbody tr th {\n",
       "        vertical-align: top;\n",
       "    }\n",
       "\n",
       "    .dataframe thead th {\n",
       "        text-align: right;\n",
       "    }\n",
       "</style>\n",
       "<table border=\"1\" class=\"dataframe\">\n",
       "  <thead>\n",
       "    <tr style=\"text-align: right;\">\n",
       "      <th></th>\n",
       "      <th>id</th>\n",
       "      <th>duration</th>\n",
       "      <th>routeLength</th>\n",
       "      <th>rerouteNo</th>\n",
       "      <th>CO_abs</th>\n",
       "      <th>CO2_abs</th>\n",
       "      <th>HC_abs</th>\n",
       "      <th>PMx_abs</th>\n",
       "      <th>NOx_abs</th>\n",
       "      <th>fuel_abs</th>\n",
       "    </tr>\n",
       "  </thead>\n",
       "  <tbody>\n",
       "    <tr>\n",
       "      <th>0</th>\n",
       "      <td>Area Flow 1-813</td>\n",
       "      <td>728.0</td>\n",
       "      <td>11260.47</td>\n",
       "      <td>0</td>\n",
       "      <td>54675.629828</td>\n",
       "      <td>3.098523e+06</td>\n",
       "      <td>325.384452</td>\n",
       "      <td>68.325290</td>\n",
       "      <td>1278.676659</td>\n",
       "      <td>1331.915693</td>\n",
       "    </tr>\n",
       "    <tr>\n",
       "      <th>1</th>\n",
       "      <td>Area Flow 1-754</td>\n",
       "      <td>784.0</td>\n",
       "      <td>12547.56</td>\n",
       "      <td>0</td>\n",
       "      <td>58014.992337</td>\n",
       "      <td>3.417493e+06</td>\n",
       "      <td>348.489805</td>\n",
       "      <td>75.402310</td>\n",
       "      <td>1413.607451</td>\n",
       "      <td>1469.024328</td>\n",
       "    </tr>\n",
       "    <tr>\n",
       "      <th>2</th>\n",
       "      <td>Area Flow 1-991</td>\n",
       "      <td>853.0</td>\n",
       "      <td>10712.93</td>\n",
       "      <td>0</td>\n",
       "      <td>63027.576341</td>\n",
       "      <td>3.144938e+06</td>\n",
       "      <td>364.157770</td>\n",
       "      <td>69.685406</td>\n",
       "      <td>1312.175905</td>\n",
       "      <td>1351.871901</td>\n",
       "    </tr>\n",
       "    <tr>\n",
       "      <th>3</th>\n",
       "      <td>Area Flow 1-838</td>\n",
       "      <td>851.0</td>\n",
       "      <td>12860.49</td>\n",
       "      <td>0</td>\n",
       "      <td>69816.835792</td>\n",
       "      <td>3.763840e+06</td>\n",
       "      <td>410.662428</td>\n",
       "      <td>83.623859</td>\n",
       "      <td>1563.465556</td>\n",
       "      <td>1617.906711</td>\n",
       "    </tr>\n",
       "    <tr>\n",
       "      <th>4</th>\n",
       "      <td>Area Flow 1-901</td>\n",
       "      <td>904.0</td>\n",
       "      <td>11990.19</td>\n",
       "      <td>0</td>\n",
       "      <td>67990.500461</td>\n",
       "      <td>3.469243e+06</td>\n",
       "      <td>394.901794</td>\n",
       "      <td>77.150103</td>\n",
       "      <td>1447.328617</td>\n",
       "      <td>1491.275289</td>\n",
       "    </tr>\n",
       "  </tbody>\n",
       "</table>\n",
       "</div>"
      ],
      "text/plain": [
       "                id  duration  routeLength  rerouteNo        CO_abs  \\\n",
       "0  Area Flow 1-813     728.0     11260.47          0  54675.629828   \n",
       "1  Area Flow 1-754     784.0     12547.56          0  58014.992337   \n",
       "2  Area Flow 1-991     853.0     10712.93          0  63027.576341   \n",
       "3  Area Flow 1-838     851.0     12860.49          0  69816.835792   \n",
       "4  Area Flow 1-901     904.0     11990.19          0  67990.500461   \n",
       "\n",
       "        CO2_abs      HC_abs    PMx_abs      NOx_abs     fuel_abs  \n",
       "0  3.098523e+06  325.384452  68.325290  1278.676659  1331.915693  \n",
       "1  3.417493e+06  348.489805  75.402310  1413.607451  1469.024328  \n",
       "2  3.144938e+06  364.157770  69.685406  1312.175905  1351.871901  \n",
       "3  3.763840e+06  410.662428  83.623859  1563.465556  1617.906711  \n",
       "4  3.469243e+06  394.901794  77.150103  1447.328617  1491.275289  "
      ]
     },
     "execution_count": 22,
     "metadata": {},
     "output_type": "execute_result"
    }
   ],
   "source": [
    "rksp.head()"
   ]
  },
  {
   "cell_type": "code",
   "execution_count": 23,
   "metadata": {
    "colab": {
     "base_uri": "https://localhost:8080/",
     "height": 300
    },
    "id": "W3MH_uovlg-R",
    "outputId": "300ece7a-0ced-44b3-8d3f-94769d04ebca"
   },
   "outputs": [
    {
     "data": {
      "text/html": [
       "<div>\n",
       "<style scoped>\n",
       "    .dataframe tbody tr th:only-of-type {\n",
       "        vertical-align: middle;\n",
       "    }\n",
       "\n",
       "    .dataframe tbody tr th {\n",
       "        vertical-align: top;\n",
       "    }\n",
       "\n",
       "    .dataframe thead th {\n",
       "        text-align: right;\n",
       "    }\n",
       "</style>\n",
       "<table border=\"1\" class=\"dataframe\">\n",
       "  <thead>\n",
       "    <tr style=\"text-align: right;\">\n",
       "      <th></th>\n",
       "      <th>duration</th>\n",
       "      <th>routeLength</th>\n",
       "      <th>rerouteNo</th>\n",
       "      <th>CO_abs</th>\n",
       "      <th>CO2_abs</th>\n",
       "      <th>HC_abs</th>\n",
       "      <th>PMx_abs</th>\n",
       "      <th>NOx_abs</th>\n",
       "      <th>fuel_abs</th>\n",
       "    </tr>\n",
       "  </thead>\n",
       "  <tbody>\n",
       "    <tr>\n",
       "      <th>count</th>\n",
       "      <td>706.000000</td>\n",
       "      <td>706.000000</td>\n",
       "      <td>706.000000</td>\n",
       "      <td>7.060000e+02</td>\n",
       "      <td>7.060000e+02</td>\n",
       "      <td>706.000000</td>\n",
       "      <td>706.000000</td>\n",
       "      <td>706.000000</td>\n",
       "      <td>706.000000</td>\n",
       "    </tr>\n",
       "    <tr>\n",
       "      <th>mean</th>\n",
       "      <td>3753.858357</td>\n",
       "      <td>17999.958031</td>\n",
       "      <td>2.720963</td>\n",
       "      <td>3.251022e+05</td>\n",
       "      <td>8.963641e+06</td>\n",
       "      <td>1696.125873</td>\n",
       "      <td>206.965610</td>\n",
       "      <td>3889.781437</td>\n",
       "      <td>3853.180994</td>\n",
       "    </tr>\n",
       "    <tr>\n",
       "      <th>std</th>\n",
       "      <td>2208.020810</td>\n",
       "      <td>5235.094524</td>\n",
       "      <td>1.920413</td>\n",
       "      <td>2.198672e+05</td>\n",
       "      <td>4.343150e+06</td>\n",
       "      <td>1103.405436</td>\n",
       "      <td>104.531467</td>\n",
       "      <td>1935.789004</td>\n",
       "      <td>1867.023189</td>\n",
       "    </tr>\n",
       "    <tr>\n",
       "      <th>min</th>\n",
       "      <td>728.000000</td>\n",
       "      <td>10712.930000</td>\n",
       "      <td>0.000000</td>\n",
       "      <td>5.467563e+04</td>\n",
       "      <td>3.098523e+06</td>\n",
       "      <td>325.384452</td>\n",
       "      <td>68.325290</td>\n",
       "      <td>1278.676659</td>\n",
       "      <td>1331.915693</td>\n",
       "    </tr>\n",
       "    <tr>\n",
       "      <th>25%</th>\n",
       "      <td>2193.000000</td>\n",
       "      <td>13709.732500</td>\n",
       "      <td>1.000000</td>\n",
       "      <td>1.697544e+05</td>\n",
       "      <td>5.701200e+06</td>\n",
       "      <td>914.251344</td>\n",
       "      <td>128.865077</td>\n",
       "      <td>2440.976693</td>\n",
       "      <td>2450.729094</td>\n",
       "    </tr>\n",
       "    <tr>\n",
       "      <th>50%</th>\n",
       "      <td>2997.500000</td>\n",
       "      <td>16485.045000</td>\n",
       "      <td>2.000000</td>\n",
       "      <td>2.481481e+05</td>\n",
       "      <td>7.493764e+06</td>\n",
       "      <td>1304.770596</td>\n",
       "      <td>170.795362</td>\n",
       "      <td>3231.980836</td>\n",
       "      <td>3221.303424</td>\n",
       "    </tr>\n",
       "    <tr>\n",
       "      <th>75%</th>\n",
       "      <td>5133.250000</td>\n",
       "      <td>21829.547500</td>\n",
       "      <td>5.000000</td>\n",
       "      <td>4.557096e+05</td>\n",
       "      <td>1.203467e+07</td>\n",
       "      <td>2365.804832</td>\n",
       "      <td>278.200384</td>\n",
       "      <td>5211.717596</td>\n",
       "      <td>5173.329956</td>\n",
       "    </tr>\n",
       "    <tr>\n",
       "      <th>max</th>\n",
       "      <td>11003.000000</td>\n",
       "      <td>37746.150000</td>\n",
       "      <td>7.000000</td>\n",
       "      <td>1.063256e+06</td>\n",
       "      <td>2.216507e+07</td>\n",
       "      <td>5369.898013</td>\n",
       "      <td>531.841424</td>\n",
       "      <td>9825.475834</td>\n",
       "      <td>9528.232692</td>\n",
       "    </tr>\n",
       "  </tbody>\n",
       "</table>\n",
       "</div>"
      ],
      "text/plain": [
       "           duration   routeLength   rerouteNo        CO_abs       CO2_abs  \\\n",
       "count    706.000000    706.000000  706.000000  7.060000e+02  7.060000e+02   \n",
       "mean    3753.858357  17999.958031    2.720963  3.251022e+05  8.963641e+06   \n",
       "std     2208.020810   5235.094524    1.920413  2.198672e+05  4.343150e+06   \n",
       "min      728.000000  10712.930000    0.000000  5.467563e+04  3.098523e+06   \n",
       "25%     2193.000000  13709.732500    1.000000  1.697544e+05  5.701200e+06   \n",
       "50%     2997.500000  16485.045000    2.000000  2.481481e+05  7.493764e+06   \n",
       "75%     5133.250000  21829.547500    5.000000  4.557096e+05  1.203467e+07   \n",
       "max    11003.000000  37746.150000    7.000000  1.063256e+06  2.216507e+07   \n",
       "\n",
       "            HC_abs     PMx_abs      NOx_abs     fuel_abs  \n",
       "count   706.000000  706.000000   706.000000   706.000000  \n",
       "mean   1696.125873  206.965610  3889.781437  3853.180994  \n",
       "std    1103.405436  104.531467  1935.789004  1867.023189  \n",
       "min     325.384452   68.325290  1278.676659  1331.915693  \n",
       "25%     914.251344  128.865077  2440.976693  2450.729094  \n",
       "50%    1304.770596  170.795362  3231.980836  3221.303424  \n",
       "75%    2365.804832  278.200384  5211.717596  5173.329956  \n",
       "max    5369.898013  531.841424  9825.475834  9528.232692  "
      ]
     },
     "execution_count": 23,
     "metadata": {},
     "output_type": "execute_result"
    }
   ],
   "source": [
    "rksp.describe()"
   ]
  },
  {
   "cell_type": "markdown",
   "metadata": {
    "id": "74O819uwlpEG"
   },
   "source": [
    "## EBkSP"
   ]
  },
  {
   "cell_type": "code",
   "execution_count": 24,
   "metadata": {
    "id": "8IJt6rhOlsym"
   },
   "outputs": [],
   "source": [
    "ebksp = xmlToDataframe('Outputs_EBkSP/ebksp_reroute.xml')"
   ]
  },
  {
   "cell_type": "code",
   "execution_count": 25,
   "metadata": {
    "colab": {
     "base_uri": "https://localhost:8080/",
     "height": 206
    },
    "id": "n9_MN9ewrNXJ",
    "outputId": "66685fdb-8006-4797-f66e-e84749c3569d"
   },
   "outputs": [
    {
     "data": {
      "text/html": [
       "<div>\n",
       "<style scoped>\n",
       "    .dataframe tbody tr th:only-of-type {\n",
       "        vertical-align: middle;\n",
       "    }\n",
       "\n",
       "    .dataframe tbody tr th {\n",
       "        vertical-align: top;\n",
       "    }\n",
       "\n",
       "    .dataframe thead th {\n",
       "        text-align: right;\n",
       "    }\n",
       "</style>\n",
       "<table border=\"1\" class=\"dataframe\">\n",
       "  <thead>\n",
       "    <tr style=\"text-align: right;\">\n",
       "      <th></th>\n",
       "      <th>id</th>\n",
       "      <th>duration</th>\n",
       "      <th>routeLength</th>\n",
       "      <th>rerouteNo</th>\n",
       "      <th>CO_abs</th>\n",
       "      <th>CO2_abs</th>\n",
       "      <th>HC_abs</th>\n",
       "      <th>PMx_abs</th>\n",
       "      <th>NOx_abs</th>\n",
       "      <th>fuel_abs</th>\n",
       "    </tr>\n",
       "  </thead>\n",
       "  <tbody>\n",
       "    <tr>\n",
       "      <th>0</th>\n",
       "      <td>Area Flow 1-813</td>\n",
       "      <td>728.0</td>\n",
       "      <td>11260.47</td>\n",
       "      <td>0</td>\n",
       "      <td>54675.629828</td>\n",
       "      <td>3.098523e+06</td>\n",
       "      <td>325.384452</td>\n",
       "      <td>68.325290</td>\n",
       "      <td>1278.676659</td>\n",
       "      <td>1331.915693</td>\n",
       "    </tr>\n",
       "    <tr>\n",
       "      <th>1</th>\n",
       "      <td>Area Flow 1-754</td>\n",
       "      <td>784.0</td>\n",
       "      <td>12547.56</td>\n",
       "      <td>0</td>\n",
       "      <td>58014.992337</td>\n",
       "      <td>3.417493e+06</td>\n",
       "      <td>348.489805</td>\n",
       "      <td>75.402310</td>\n",
       "      <td>1413.607451</td>\n",
       "      <td>1469.024328</td>\n",
       "    </tr>\n",
       "    <tr>\n",
       "      <th>2</th>\n",
       "      <td>Area Flow 1-991</td>\n",
       "      <td>853.0</td>\n",
       "      <td>10712.93</td>\n",
       "      <td>0</td>\n",
       "      <td>63027.576341</td>\n",
       "      <td>3.144938e+06</td>\n",
       "      <td>364.157770</td>\n",
       "      <td>69.685406</td>\n",
       "      <td>1312.175905</td>\n",
       "      <td>1351.871901</td>\n",
       "    </tr>\n",
       "    <tr>\n",
       "      <th>3</th>\n",
       "      <td>Area Flow 1-838</td>\n",
       "      <td>851.0</td>\n",
       "      <td>12860.49</td>\n",
       "      <td>0</td>\n",
       "      <td>69816.835792</td>\n",
       "      <td>3.763840e+06</td>\n",
       "      <td>410.662428</td>\n",
       "      <td>83.623859</td>\n",
       "      <td>1563.465556</td>\n",
       "      <td>1617.906711</td>\n",
       "    </tr>\n",
       "    <tr>\n",
       "      <th>4</th>\n",
       "      <td>Area Flow 1-901</td>\n",
       "      <td>904.0</td>\n",
       "      <td>11990.19</td>\n",
       "      <td>0</td>\n",
       "      <td>67951.886445</td>\n",
       "      <td>3.476032e+06</td>\n",
       "      <td>394.902747</td>\n",
       "      <td>77.224042</td>\n",
       "      <td>1448.375202</td>\n",
       "      <td>1494.193637</td>\n",
       "    </tr>\n",
       "  </tbody>\n",
       "</table>\n",
       "</div>"
      ],
      "text/plain": [
       "                id  duration  routeLength  rerouteNo        CO_abs  \\\n",
       "0  Area Flow 1-813     728.0     11260.47          0  54675.629828   \n",
       "1  Area Flow 1-754     784.0     12547.56          0  58014.992337   \n",
       "2  Area Flow 1-991     853.0     10712.93          0  63027.576341   \n",
       "3  Area Flow 1-838     851.0     12860.49          0  69816.835792   \n",
       "4  Area Flow 1-901     904.0     11990.19          0  67951.886445   \n",
       "\n",
       "        CO2_abs      HC_abs    PMx_abs      NOx_abs     fuel_abs  \n",
       "0  3.098523e+06  325.384452  68.325290  1278.676659  1331.915693  \n",
       "1  3.417493e+06  348.489805  75.402310  1413.607451  1469.024328  \n",
       "2  3.144938e+06  364.157770  69.685406  1312.175905  1351.871901  \n",
       "3  3.763840e+06  410.662428  83.623859  1563.465556  1617.906711  \n",
       "4  3.476032e+06  394.902747  77.224042  1448.375202  1494.193637  "
      ]
     },
     "execution_count": 25,
     "metadata": {},
     "output_type": "execute_result"
    }
   ],
   "source": [
    "ebksp.head()"
   ]
  },
  {
   "cell_type": "code",
   "execution_count": 26,
   "metadata": {
    "colab": {
     "base_uri": "https://localhost:8080/",
     "height": 300
    },
    "id": "rzYSN6ESweiB",
    "outputId": "5e7acd36-08f0-45ef-fc33-e307f50c275f"
   },
   "outputs": [
    {
     "data": {
      "text/html": [
       "<div>\n",
       "<style scoped>\n",
       "    .dataframe tbody tr th:only-of-type {\n",
       "        vertical-align: middle;\n",
       "    }\n",
       "\n",
       "    .dataframe tbody tr th {\n",
       "        vertical-align: top;\n",
       "    }\n",
       "\n",
       "    .dataframe thead th {\n",
       "        text-align: right;\n",
       "    }\n",
       "</style>\n",
       "<table border=\"1\" class=\"dataframe\">\n",
       "  <thead>\n",
       "    <tr style=\"text-align: right;\">\n",
       "      <th></th>\n",
       "      <th>duration</th>\n",
       "      <th>routeLength</th>\n",
       "      <th>rerouteNo</th>\n",
       "      <th>CO_abs</th>\n",
       "      <th>CO2_abs</th>\n",
       "      <th>HC_abs</th>\n",
       "      <th>PMx_abs</th>\n",
       "      <th>NOx_abs</th>\n",
       "      <th>fuel_abs</th>\n",
       "    </tr>\n",
       "  </thead>\n",
       "  <tbody>\n",
       "    <tr>\n",
       "      <th>count</th>\n",
       "      <td>706.000000</td>\n",
       "      <td>706.000000</td>\n",
       "      <td>706.000000</td>\n",
       "      <td>706.000000</td>\n",
       "      <td>7.060000e+02</td>\n",
       "      <td>706.000000</td>\n",
       "      <td>706.000000</td>\n",
       "      <td>706.000000</td>\n",
       "      <td>706.000000</td>\n",
       "    </tr>\n",
       "    <tr>\n",
       "      <th>mean</th>\n",
       "      <td>3265.286119</td>\n",
       "      <td>17631.225822</td>\n",
       "      <td>2.419263</td>\n",
       "      <td>274073.189762</td>\n",
       "      <td>8.044606e+06</td>\n",
       "      <td>1441.988933</td>\n",
       "      <td>184.156424</td>\n",
       "      <td>3472.978694</td>\n",
       "      <td>3458.105689</td>\n",
       "    </tr>\n",
       "    <tr>\n",
       "      <th>std</th>\n",
       "      <td>1620.393450</td>\n",
       "      <td>5400.930285</td>\n",
       "      <td>1.784050</td>\n",
       "      <td>145991.782493</td>\n",
       "      <td>3.227879e+06</td>\n",
       "      <td>740.894366</td>\n",
       "      <td>75.781483</td>\n",
       "      <td>1419.085570</td>\n",
       "      <td>1387.581919</td>\n",
       "    </tr>\n",
       "    <tr>\n",
       "      <th>min</th>\n",
       "      <td>728.000000</td>\n",
       "      <td>10633.680000</td>\n",
       "      <td>0.000000</td>\n",
       "      <td>54675.629828</td>\n",
       "      <td>3.098523e+06</td>\n",
       "      <td>325.384452</td>\n",
       "      <td>68.325290</td>\n",
       "      <td>1278.676659</td>\n",
       "      <td>1331.915693</td>\n",
       "    </tr>\n",
       "    <tr>\n",
       "      <th>25%</th>\n",
       "      <td>1985.000000</td>\n",
       "      <td>13418.087500</td>\n",
       "      <td>1.000000</td>\n",
       "      <td>150793.901939</td>\n",
       "      <td>5.366601e+06</td>\n",
       "      <td>817.196621</td>\n",
       "      <td>121.300886</td>\n",
       "      <td>2293.095680</td>\n",
       "      <td>2306.892771</td>\n",
       "    </tr>\n",
       "    <tr>\n",
       "      <th>50%</th>\n",
       "      <td>2903.000000</td>\n",
       "      <td>15899.325000</td>\n",
       "      <td>2.000000</td>\n",
       "      <td>237332.454664</td>\n",
       "      <td>7.332905e+06</td>\n",
       "      <td>1260.054202</td>\n",
       "      <td>167.138442</td>\n",
       "      <td>3168.636616</td>\n",
       "      <td>3152.151044</td>\n",
       "    </tr>\n",
       "    <tr>\n",
       "      <th>75%</th>\n",
       "      <td>4253.750000</td>\n",
       "      <td>20293.437500</td>\n",
       "      <td>3.000000</td>\n",
       "      <td>370520.815759</td>\n",
       "      <td>1.010338e+07</td>\n",
       "      <td>1930.370071</td>\n",
       "      <td>234.088508</td>\n",
       "      <td>4388.657644</td>\n",
       "      <td>4343.108399</td>\n",
       "    </tr>\n",
       "    <tr>\n",
       "      <th>max</th>\n",
       "      <td>7181.000000</td>\n",
       "      <td>37387.040000</td>\n",
       "      <td>7.000000</td>\n",
       "      <td>599393.898825</td>\n",
       "      <td>1.542262e+07</td>\n",
       "      <td>3088.096591</td>\n",
       "      <td>354.260265</td>\n",
       "      <td>6672.327107</td>\n",
       "      <td>6629.687720</td>\n",
       "    </tr>\n",
       "  </tbody>\n",
       "</table>\n",
       "</div>"
      ],
      "text/plain": [
       "          duration   routeLength   rerouteNo         CO_abs       CO2_abs  \\\n",
       "count   706.000000    706.000000  706.000000     706.000000  7.060000e+02   \n",
       "mean   3265.286119  17631.225822    2.419263  274073.189762  8.044606e+06   \n",
       "std    1620.393450   5400.930285    1.784050  145991.782493  3.227879e+06   \n",
       "min     728.000000  10633.680000    0.000000   54675.629828  3.098523e+06   \n",
       "25%    1985.000000  13418.087500    1.000000  150793.901939  5.366601e+06   \n",
       "50%    2903.000000  15899.325000    2.000000  237332.454664  7.332905e+06   \n",
       "75%    4253.750000  20293.437500    3.000000  370520.815759  1.010338e+07   \n",
       "max    7181.000000  37387.040000    7.000000  599393.898825  1.542262e+07   \n",
       "\n",
       "            HC_abs     PMx_abs      NOx_abs     fuel_abs  \n",
       "count   706.000000  706.000000   706.000000   706.000000  \n",
       "mean   1441.988933  184.156424  3472.978694  3458.105689  \n",
       "std     740.894366   75.781483  1419.085570  1387.581919  \n",
       "min     325.384452   68.325290  1278.676659  1331.915693  \n",
       "25%     817.196621  121.300886  2293.095680  2306.892771  \n",
       "50%    1260.054202  167.138442  3168.636616  3152.151044  \n",
       "75%    1930.370071  234.088508  4388.657644  4343.108399  \n",
       "max    3088.096591  354.260265  6672.327107  6629.687720  "
      ]
     },
     "execution_count": 26,
     "metadata": {},
     "output_type": "execute_result"
    }
   ],
   "source": [
    "ebksp.describe()"
   ]
  },
  {
   "cell_type": "markdown",
   "metadata": {
    "id": "IfTZxxJRxYXG"
   },
   "source": [
    "# Gráficos"
   ]
  },
  {
   "cell_type": "code",
   "execution_count": 27,
   "metadata": {
    "id": "hyFe5_-wxZtP"
   },
   "outputs": [],
   "source": [
    "import matplotlib.pyplot as plt\n",
    "import numpy as np"
   ]
  },
  {
   "cell_type": "markdown",
   "metadata": {
    "id": "nwI3aR0zkCNG"
   },
   "source": [
    "### Tempo de viagem"
   ]
  },
  {
   "cell_type": "code",
   "execution_count": 35,
   "metadata": {
    "colab": {
     "base_uri": "https://localhost:8080/",
     "height": 279
    },
    "id": "mUV8b79pxcB8",
    "outputId": "dfeef47b-d48f-4257-dfe4-6d1eb7e03917"
   },
   "outputs": [
    {
     "name": "stderr",
     "output_type": "stream",
     "text": [
      "<ipython-input-35-5f0d4682a041>:11: UserWarning: Matplotlib is currently using module://ipykernel.pylab.backend_inline, which is a non-GUI backend, so cannot show the figure.\n",
      "  fig.show()\n"
     ]
    },
    {
     "data": {
      "image/png": "[encoded data removed]",
      "text/plain": [
       "<Figure size 432x288 with 1 Axes>"
      ]
     },
     "metadata": {
      "needs_background": "light"
     },
     "output_type": "display_data"
    }
   ],
   "source": [
    "labels = ['No reroute', 'DSP', 'RkSP', 'EBkSP']\n",
    "values = [no_reroute.duration, dsp.duration, rksp.duration, ebksp.duration]\n",
    "\n",
    "fig, ax = plt.subplots()\n",
    "ax.boxplot(values)\n",
    "ax.set_xlabel('Método')\n",
    "ax.set_xticklabels(labels)\n",
    "\n",
    "ax.set_ylabel('Tempo de viagem')\n",
    "\n",
    "fig.show()\n",
    "plt.savefig('Graficos/tempo_viagem.png')"
   ]
  },
  {
   "cell_type": "markdown",
   "metadata": {
    "id": "hqhh_T6PkFX9"
   },
   "source": [
    "### Distância percorrida"
   ]
  },
  {
   "cell_type": "code",
   "execution_count": 36,
   "metadata": {
    "colab": {
     "base_uri": "https://localhost:8080/",
     "height": 279
    },
    "id": "Y5Gvw2DWf7eR",
    "outputId": "3699f767-1d7d-45d8-dcf0-564effb8e2ab"
   },
   "outputs": [
    {
     "name": "stderr",
     "output_type": "stream",
     "text": [
      "<ipython-input-36-c450e15011f9>:10: UserWarning: Matplotlib is currently using module://ipykernel.pylab.backend_inline, which is a non-GUI backend, so cannot show the figure.\n",
      "  fig.show()\n"
     ]
    },
    {
     "data": {
      "image/png": "[encoded data removed]",
      "text/plain": [
       "<Figure size 432x288 with 1 Axes>"
      ]
     },
     "metadata": {
      "needs_background": "light"
     },
     "output_type": "display_data"
    }
   ],
   "source": [
    "values = [no_reroute.routeLength, dsp.routeLength, rksp.routeLength, ebksp.routeLength]\n",
    "\n",
    "fig, ax = plt.subplots()\n",
    "ax.boxplot(values)\n",
    "ax.set_xlabel('Método')\n",
    "ax.set_xticklabels(labels)\n",
    "\n",
    "ax.set_ylabel('Distância percorrida')\n",
    "\n",
    "fig.show()\n",
    "plt.savefig('Graficos/Distancia.png')"
   ]
  },
  {
   "cell_type": "markdown",
   "metadata": {
    "id": "eNRTQTiwgdRn"
   },
   "source": [
    "### Emissões"
   ]
  },
  {
   "cell_type": "code",
   "execution_count": 40,
   "metadata": {
    "colab": {
     "base_uri": "https://localhost:8080/",
     "height": 345
    },
    "id": "AmUHxLxWgU4z",
    "outputId": "f6c8101a-56e1-4c20-c575-d8b5eafdee8c"
   },
   "outputs": [
    {
     "name": "stderr",
     "output_type": "stream",
     "text": [
      "<ipython-input-40-05ef3780e2ce>:17: UserWarning: Matplotlib is currently using module://ipykernel.pylab.backend_inline, which is a non-GUI backend, so cannot show the figure.\n",
      "  fig.show()\n"
     ]
    },
    {
     "data": {
      "image/png": "[encoded data removed]",
      "text/plain": [
       "<Figure size 864x360 with 2 Axes>"
      ]
     },
     "metadata": {
      "needs_background": "light"
     },
     "output_type": "display_data"
    }
   ],
   "source": [
    "values1 = [no_reroute.CO_abs, dsp.CO_abs, rksp.CO_abs, ebksp.CO_abs]\n",
    "values2 = [no_reroute.CO2_abs, dsp.CO2_abs, rksp.CO2_abs, ebksp.CO2_abs]\n",
    "\n",
    "fig, (ax1, ax2) = plt.subplots(nrows=1, ncols=2, figsize=(12, 5))\n",
    "ax1.boxplot(values1)\n",
    "ax1.set_xlabel('Método')\n",
    "ax1.set_xticklabels(labels)\n",
    "\n",
    "ax1.set_ylabel('Emissão de monóxido de carbono')\n",
    "\n",
    "ax2.boxplot(values2)\n",
    "ax2.set_xlabel('Método')\n",
    "ax2.set_xticklabels(labels)\n",
    "\n",
    "ax2.set_ylabel('Emissão de dióxido de carbono')\n",
    "\n",
    "fig.show()\n",
    "plt.savefig('Graficos/Emissoes.png')"
   ]
  },
  {
   "cell_type": "markdown",
   "metadata": {
    "id": "8V25N6gggp0K"
   },
   "source": [
    "### Consumo de combustível"
   ]
  },
  {
   "cell_type": "code",
   "execution_count": 38,
   "metadata": {
    "colab": {
     "base_uri": "https://localhost:8080/",
     "height": 279
    },
    "id": "KcrA6aVIgsru",
    "outputId": "f4e81831-2b9b-4891-9abb-69bc2464c4cb"
   },
   "outputs": [
    {
     "name": "stderr",
     "output_type": "stream",
     "text": [
      "<ipython-input-38-1a679b32a338>:10: UserWarning: Matplotlib is currently using module://ipykernel.pylab.backend_inline, which is a non-GUI backend, so cannot show the figure.\n",
      "  fig.show()\n"
     ]
    },
    {
     "data": {
      "image/png": "[encoded data removed]",
      "text/plain": [
       "<Figure size 432x288 with 1 Axes>"
      ]
     },
     "metadata": {
      "needs_background": "light"
     },
     "output_type": "display_data"
    }
   ],
   "source": [
    "values = [no_reroute.fuel_abs, dsp.fuel_abs, rksp.fuel_abs, ebksp.fuel_abs]\n",
    "\n",
    "fig, ax = plt.subplots()\n",
    "ax.boxplot(values)\n",
    "ax.set_xlabel('Método')\n",
    "ax.set_xticklabels(labels)\n",
    "\n",
    "ax.set_ylabel('Consumo de combustível')\n",
    "\n",
    "fig.show()\n",
    "plt.savefig('Graficos/Consumo.png')"
   ]
  },
  {
   "cell_type": "markdown",
   "metadata": {
    "id": "Y8-l_MHwgzop"
   },
   "source": [
    "### Número de re-roteamentos"
   ]
  },
  {
   "cell_type": "code",
   "execution_count": 41,
   "metadata": {
    "colab": {
     "base_uri": "https://localhost:8080/",
     "height": 279
    },
    "id": "gwTtLC6Hgy_G",
    "outputId": "56a03056-9d42-4c8a-abec-3d27f10c34a5"
   },
   "outputs": [
    {
     "name": "stderr",
     "output_type": "stream",
     "text": [
      "<ipython-input-41-638029686d44>:10: UserWarning: Matplotlib is currently using module://ipykernel.pylab.backend_inline, which is a non-GUI backend, so cannot show the figure.\n",
      "  fig.show()\n"
     ]
    },
    {
     "data": {
      "image/png": "[encoded data removed]",
      "text/plain": [
       "<Figure size 432x288 with 1 Axes>"
      ]
     },
     "metadata": {
      "needs_background": "light"
     },
     "output_type": "display_data"
    }
   ],
   "source": [
    "values = [no_reroute.rerouteNo, dsp.rerouteNo, rksp.rerouteNo, ebksp.rerouteNo]\n",
    "\n",
    "fig, ax = plt.subplots()\n",
    "ax.boxplot(values)\n",
    "ax.set_xlabel('Método')\n",
    "ax.set_xticklabels(labels)\n",
    "\n",
    "ax.set_ylabel('Número de re-roteamentos')\n",
    "\n",
    "fig.show()\n",
    "plt.savefig('Graficos/Num_rerroteamentos.png')"
   ]
  },
  {
   "cell_type": "code",
   "execution_count": null,
   "metadata": {},
   "outputs": [],
   "source": []
  },
  {
   "cell_type": "code",
   "execution_count": null,
   "metadata": {},
   "outputs": [],
   "source": []
  }
 ],
 "metadata": {
  "colab": {
   "collapsed_sections": [],
   "name": "Análise de dados.ipynb",
   "provenance": []
  },
  "kernelspec": {
   "display_name": "Python 3",
   "language": "python",
   "name": "python3"
  },
  "language_info": {
   "codemirror_mode": {
    "name": "ipython",
    "version": 3
   },
   "file_extension": ".py",
   "mimetype": "text/x-python",
   "name": "python",
   "nbconvert_exporter": "python",
   "pygments_lexer": "ipython3",
   "version": "3.8.8"
  }
 },
 "nbformat": 4,
 "nbformat_minor": 1
}
